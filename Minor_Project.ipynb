{
  "nbformat": 4,
  "nbformat_minor": 0,
  "metadata": {
    "colab": {
      "name": "Minor_Project.ipynb",
      "provenance": [],
      "authorship_tag": "ABX9TyOoUQSjn5HTn+xIsPKt5QJq",
      "include_colab_link": true
    },
    "kernelspec": {
      "name": "python3",
      "display_name": "Python 3"
    }
  },
  "cells": [
    {
      "cell_type": "markdown",
      "metadata": {
        "id": "view-in-github",
        "colab_type": "text"
      },
      "source": [
        "<a href=\"https://colab.research.google.com/github/Kavs6/hello-world/blob/master/Minor_Project.ipynb\" target=\"_parent\"><img src=\"https://colab.research.google.com/assets/colab-badge.svg\" alt=\"Open In Colab\"/></a>"
      ]
    },
    {
      "cell_type": "markdown",
      "metadata": {
        "id": "7bTCBbOH5hSA",
        "colab_type": "text"
      },
      "source": [
        "Linear Regression\n",
        "\n",
        "Insurance charges estimation based on sex,age ,bmi,no. of children,smoker and region."
      ]
    },
    {
      "cell_type": "code",
      "metadata": {
        "id": "WDF6Ouq8167M",
        "colab_type": "code",
        "colab": {}
      },
      "source": [
        "import pandas as pd\n",
        "import matplotlib.pyplot as plt"
      ],
      "execution_count": 111,
      "outputs": []
    },
    {
      "cell_type": "code",
      "metadata": {
        "id": "OwciRQ0Y4Vqy",
        "colab_type": "code",
        "colab": {}
      },
      "source": [
        "#Creating a dataframe from the data\n",
        "df=pd.read_csv('/content/insurance_charges.csv')"
      ],
      "execution_count": 112,
      "outputs": []
    },
    {
      "cell_type": "code",
      "metadata": {
        "id": "u693861p4vDU",
        "colab_type": "code",
        "colab": {
          "base_uri": "https://localhost:8080/",
          "height": 408
        },
        "outputId": "30e3d651-14f4-48fc-e992-42b299764b2d"
      },
      "source": [
        "df"
      ],
      "execution_count": 113,
      "outputs": [
        {
          "output_type": "execute_result",
          "data": {
            "text/html": [
              "<div>\n",
              "<style scoped>\n",
              "    .dataframe tbody tr th:only-of-type {\n",
              "        vertical-align: middle;\n",
              "    }\n",
              "\n",
              "    .dataframe tbody tr th {\n",
              "        vertical-align: top;\n",
              "    }\n",
              "\n",
              "    .dataframe thead th {\n",
              "        text-align: right;\n",
              "    }\n",
              "</style>\n",
              "<table border=\"1\" class=\"dataframe\">\n",
              "  <thead>\n",
              "    <tr style=\"text-align: right;\">\n",
              "      <th></th>\n",
              "      <th>age</th>\n",
              "      <th>sex</th>\n",
              "      <th>bmi</th>\n",
              "      <th>children</th>\n",
              "      <th>smoker</th>\n",
              "      <th>region</th>\n",
              "      <th>charges</th>\n",
              "    </tr>\n",
              "  </thead>\n",
              "  <tbody>\n",
              "    <tr>\n",
              "      <th>0</th>\n",
              "      <td>19</td>\n",
              "      <td>female</td>\n",
              "      <td>27.900</td>\n",
              "      <td>0</td>\n",
              "      <td>yes</td>\n",
              "      <td>southwest</td>\n",
              "      <td>16884.92400</td>\n",
              "    </tr>\n",
              "    <tr>\n",
              "      <th>1</th>\n",
              "      <td>18</td>\n",
              "      <td>male</td>\n",
              "      <td>33.770</td>\n",
              "      <td>1</td>\n",
              "      <td>no</td>\n",
              "      <td>southeast</td>\n",
              "      <td>1725.55230</td>\n",
              "    </tr>\n",
              "    <tr>\n",
              "      <th>2</th>\n",
              "      <td>28</td>\n",
              "      <td>male</td>\n",
              "      <td>33.000</td>\n",
              "      <td>3</td>\n",
              "      <td>no</td>\n",
              "      <td>southeast</td>\n",
              "      <td>4449.46200</td>\n",
              "    </tr>\n",
              "    <tr>\n",
              "      <th>3</th>\n",
              "      <td>33</td>\n",
              "      <td>male</td>\n",
              "      <td>22.705</td>\n",
              "      <td>0</td>\n",
              "      <td>no</td>\n",
              "      <td>northwest</td>\n",
              "      <td>21984.47061</td>\n",
              "    </tr>\n",
              "    <tr>\n",
              "      <th>4</th>\n",
              "      <td>32</td>\n",
              "      <td>male</td>\n",
              "      <td>28.880</td>\n",
              "      <td>0</td>\n",
              "      <td>no</td>\n",
              "      <td>northwest</td>\n",
              "      <td>3866.85520</td>\n",
              "    </tr>\n",
              "    <tr>\n",
              "      <th>...</th>\n",
              "      <td>...</td>\n",
              "      <td>...</td>\n",
              "      <td>...</td>\n",
              "      <td>...</td>\n",
              "      <td>...</td>\n",
              "      <td>...</td>\n",
              "      <td>...</td>\n",
              "    </tr>\n",
              "    <tr>\n",
              "      <th>1333</th>\n",
              "      <td>50</td>\n",
              "      <td>male</td>\n",
              "      <td>30.970</td>\n",
              "      <td>3</td>\n",
              "      <td>no</td>\n",
              "      <td>northwest</td>\n",
              "      <td>10600.54830</td>\n",
              "    </tr>\n",
              "    <tr>\n",
              "      <th>1334</th>\n",
              "      <td>18</td>\n",
              "      <td>female</td>\n",
              "      <td>31.920</td>\n",
              "      <td>0</td>\n",
              "      <td>no</td>\n",
              "      <td>northeast</td>\n",
              "      <td>2205.98080</td>\n",
              "    </tr>\n",
              "    <tr>\n",
              "      <th>1335</th>\n",
              "      <td>18</td>\n",
              "      <td>female</td>\n",
              "      <td>36.850</td>\n",
              "      <td>0</td>\n",
              "      <td>no</td>\n",
              "      <td>southeast</td>\n",
              "      <td>1629.83350</td>\n",
              "    </tr>\n",
              "    <tr>\n",
              "      <th>1336</th>\n",
              "      <td>21</td>\n",
              "      <td>female</td>\n",
              "      <td>25.800</td>\n",
              "      <td>0</td>\n",
              "      <td>no</td>\n",
              "      <td>southwest</td>\n",
              "      <td>2007.94500</td>\n",
              "    </tr>\n",
              "    <tr>\n",
              "      <th>1337</th>\n",
              "      <td>61</td>\n",
              "      <td>female</td>\n",
              "      <td>29.070</td>\n",
              "      <td>0</td>\n",
              "      <td>yes</td>\n",
              "      <td>northwest</td>\n",
              "      <td>29141.36030</td>\n",
              "    </tr>\n",
              "  </tbody>\n",
              "</table>\n",
              "<p>1338 rows × 7 columns</p>\n",
              "</div>"
            ],
            "text/plain": [
              "      age     sex     bmi  children smoker     region      charges\n",
              "0      19  female  27.900         0    yes  southwest  16884.92400\n",
              "1      18    male  33.770         1     no  southeast   1725.55230\n",
              "2      28    male  33.000         3     no  southeast   4449.46200\n",
              "3      33    male  22.705         0     no  northwest  21984.47061\n",
              "4      32    male  28.880         0     no  northwest   3866.85520\n",
              "...   ...     ...     ...       ...    ...        ...          ...\n",
              "1333   50    male  30.970         3     no  northwest  10600.54830\n",
              "1334   18  female  31.920         0     no  northeast   2205.98080\n",
              "1335   18  female  36.850         0     no  southeast   1629.83350\n",
              "1336   21  female  25.800         0     no  southwest   2007.94500\n",
              "1337   61  female  29.070         0    yes  northwest  29141.36030\n",
              "\n",
              "[1338 rows x 7 columns]"
            ]
          },
          "metadata": {
            "tags": []
          },
          "execution_count": 113
        }
      ]
    },
    {
      "cell_type": "code",
      "metadata": {
        "id": "ddvECbhK49EF",
        "colab_type": "code",
        "colab": {
          "base_uri": "https://localhost:8080/",
          "height": 198
        },
        "outputId": "9d3f683a-b283-48aa-93a1-3be23755943d"
      },
      "source": [
        "df.head()"
      ],
      "execution_count": 114,
      "outputs": [
        {
          "output_type": "execute_result",
          "data": {
            "text/html": [
              "<div>\n",
              "<style scoped>\n",
              "    .dataframe tbody tr th:only-of-type {\n",
              "        vertical-align: middle;\n",
              "    }\n",
              "\n",
              "    .dataframe tbody tr th {\n",
              "        vertical-align: top;\n",
              "    }\n",
              "\n",
              "    .dataframe thead th {\n",
              "        text-align: right;\n",
              "    }\n",
              "</style>\n",
              "<table border=\"1\" class=\"dataframe\">\n",
              "  <thead>\n",
              "    <tr style=\"text-align: right;\">\n",
              "      <th></th>\n",
              "      <th>age</th>\n",
              "      <th>sex</th>\n",
              "      <th>bmi</th>\n",
              "      <th>children</th>\n",
              "      <th>smoker</th>\n",
              "      <th>region</th>\n",
              "      <th>charges</th>\n",
              "    </tr>\n",
              "  </thead>\n",
              "  <tbody>\n",
              "    <tr>\n",
              "      <th>0</th>\n",
              "      <td>19</td>\n",
              "      <td>female</td>\n",
              "      <td>27.900</td>\n",
              "      <td>0</td>\n",
              "      <td>yes</td>\n",
              "      <td>southwest</td>\n",
              "      <td>16884.92400</td>\n",
              "    </tr>\n",
              "    <tr>\n",
              "      <th>1</th>\n",
              "      <td>18</td>\n",
              "      <td>male</td>\n",
              "      <td>33.770</td>\n",
              "      <td>1</td>\n",
              "      <td>no</td>\n",
              "      <td>southeast</td>\n",
              "      <td>1725.55230</td>\n",
              "    </tr>\n",
              "    <tr>\n",
              "      <th>2</th>\n",
              "      <td>28</td>\n",
              "      <td>male</td>\n",
              "      <td>33.000</td>\n",
              "      <td>3</td>\n",
              "      <td>no</td>\n",
              "      <td>southeast</td>\n",
              "      <td>4449.46200</td>\n",
              "    </tr>\n",
              "    <tr>\n",
              "      <th>3</th>\n",
              "      <td>33</td>\n",
              "      <td>male</td>\n",
              "      <td>22.705</td>\n",
              "      <td>0</td>\n",
              "      <td>no</td>\n",
              "      <td>northwest</td>\n",
              "      <td>21984.47061</td>\n",
              "    </tr>\n",
              "    <tr>\n",
              "      <th>4</th>\n",
              "      <td>32</td>\n",
              "      <td>male</td>\n",
              "      <td>28.880</td>\n",
              "      <td>0</td>\n",
              "      <td>no</td>\n",
              "      <td>northwest</td>\n",
              "      <td>3866.85520</td>\n",
              "    </tr>\n",
              "  </tbody>\n",
              "</table>\n",
              "</div>"
            ],
            "text/plain": [
              "   age     sex     bmi  children smoker     region      charges\n",
              "0   19  female  27.900         0    yes  southwest  16884.92400\n",
              "1   18    male  33.770         1     no  southeast   1725.55230\n",
              "2   28    male  33.000         3     no  southeast   4449.46200\n",
              "3   33    male  22.705         0     no  northwest  21984.47061\n",
              "4   32    male  28.880         0     no  northwest   3866.85520"
            ]
          },
          "metadata": {
            "tags": []
          },
          "execution_count": 114
        }
      ]
    },
    {
      "cell_type": "code",
      "metadata": {
        "id": "PdC5s_pPQ4Q1",
        "colab_type": "code",
        "colab": {
          "base_uri": "https://localhost:8080/",
          "height": 259
        },
        "outputId": "884efb1f-1036-4b45-8e94-ad025fbca4cc"
      },
      "source": [
        "df.info()\n",
        "#no null values,so no need for filtering the data"
      ],
      "execution_count": 115,
      "outputs": [
        {
          "output_type": "stream",
          "text": [
            "<class 'pandas.core.frame.DataFrame'>\n",
            "RangeIndex: 1338 entries, 0 to 1337\n",
            "Data columns (total 7 columns):\n",
            " #   Column    Non-Null Count  Dtype  \n",
            "---  ------    --------------  -----  \n",
            " 0   age       1338 non-null   int64  \n",
            " 1   sex       1338 non-null   object \n",
            " 2   bmi       1338 non-null   float64\n",
            " 3   children  1338 non-null   int64  \n",
            " 4   smoker    1338 non-null   object \n",
            " 5   region    1338 non-null   object \n",
            " 6   charges   1338 non-null   float64\n",
            "dtypes: float64(2), int64(2), object(3)\n",
            "memory usage: 73.3+ KB\n"
          ],
          "name": "stdout"
        }
      ]
    },
    {
      "cell_type": "code",
      "metadata": {
        "id": "NacN-Y_q-Duc",
        "colab_type": "code",
        "colab": {
          "base_uri": "https://localhost:8080/",
          "height": 295
        },
        "outputId": "c1f604db-527d-44ee-fce0-1539f4d39260"
      },
      "source": [
        "#Data Visualisation\n",
        "plt.scatter(df['age'], df['charges'], color='red')\n",
        "plt.title('Age Vs Charges')\n",
        "plt.xlabel('Age')\n",
        "plt.ylabel('Charges')\n",
        "plt.show()"
      ],
      "execution_count": 116,
      "outputs": [
        {
          "output_type": "display_data",
          "data": {
            "image/png": "[encoded data removed]",
            "text/plain": [
              "<Figure size 432x288 with 1 Axes>"
            ]
          },
          "metadata": {
            "tags": [],
            "needs_background": "light"
          }
        }
      ]
    },
    {
      "cell_type": "code",
      "metadata": {
        "id": "yGa270S7-EjG",
        "colab_type": "code",
        "colab": {
          "base_uri": "https://localhost:8080/",
          "height": 295
        },
        "outputId": "5bf44099-ac39-4b46-9fe1-92b36db9bd68"
      },
      "source": [
        "plt.scatter(df['bmi'], df['charges'], color='red')\n",
        "plt.title('BMI Vs Charges')\n",
        "plt.xlabel('BMI')\n",
        "plt.ylabel('Charges')\n",
        "plt.show()"
      ],
      "execution_count": 117,
      "outputs": [
        {
          "output_type": "display_data",
          "data": {
            "image/png": "[encoded data removed]",
            "text/plain": [
              "<Figure size 432x288 with 1 Axes>"
            ]
          },
          "metadata": {
            "tags": [],
            "needs_background": "light"
          }
        }
      ]
    },
    {
      "cell_type": "code",
      "metadata": {
        "id": "ocbVk9Yx-Mvm",
        "colab_type": "code",
        "colab": {
          "base_uri": "https://localhost:8080/",
          "height": 295
        },
        "outputId": "634c69b8-21c3-4994-a385-d977c8a4dce8"
      },
      "source": [
        "plt.scatter(df['children'], df['charges'], color='red')\n",
        "plt.title('Children Vs Charges')\n",
        "plt.xlabel('Children')\n",
        "plt.ylabel('Charges')\n",
        "plt.show()"
      ],
      "execution_count": 118,
      "outputs": [
        {
          "output_type": "display_data",
          "data": {
            "image/png": "[encoded data removed]",
            "text/plain": [
              "<Figure size 432x288 with 1 Axes>"
            ]
          },
          "metadata": {
            "tags": [],
            "needs_background": "light"
          }
        }
      ]
    },
    {
      "cell_type": "code",
      "metadata": {
        "id": "27o0ndSy-Swd",
        "colab_type": "code",
        "colab": {
          "base_uri": "https://localhost:8080/",
          "height": 295
        },
        "outputId": "be89d00b-87eb-4d07-a653-1697561a2500"
      },
      "source": [
        "plt.scatter(df['sex'], df['charges'], color='red')\n",
        "plt.title('Sex Vs Charges')\n",
        "plt.xlabel('Sex')\n",
        "plt.ylabel('Charges')\n",
        "plt.show()"
      ],
      "execution_count": 119,
      "outputs": [
        {
          "output_type": "display_data",
          "data": {
            "image/png": "[encoded data removed]",
            "text/plain": [
              "<Figure size 432x288 with 1 Axes>"
            ]
          },
          "metadata": {
            "tags": [],
            "needs_background": "light"
          }
        }
      ]
    },
    {
      "cell_type": "code",
      "metadata": {
        "id": "X2waN-qw-X1w",
        "colab_type": "code",
        "colab": {
          "base_uri": "https://localhost:8080/",
          "height": 295
        },
        "outputId": "2594b8fb-00b4-4f2c-c40e-bf582a6b65a6"
      },
      "source": [
        "plt.scatter(df['region'], df['charges'], color='red')\n",
        "plt.title('Region Vs Charges')\n",
        "plt.xlabel('Region')\n",
        "plt.ylabel('Charges')\n",
        "plt.show()"
      ],
      "execution_count": 120,
      "outputs": [
        {
          "output_type": "display_data",
          "data": {
            "image/png": "[encoded data removed]",
            "text/plain": [
              "<Figure size 432x288 with 1 Axes>"
            ]
          },
          "metadata": {
            "tags": [],
            "needs_background": "light"
          }
        }
      ]
    },
    {
      "cell_type": "code",
      "metadata": {
        "id": "R5ayfEk8-buh",
        "colab_type": "code",
        "colab": {
          "base_uri": "https://localhost:8080/",
          "height": 295
        },
        "outputId": "83d29ba3-ff5b-440c-9ede-10d5cdeb348b"
      },
      "source": [
        "plt.scatter(df['smoker'], df['charges'], color='red')\n",
        "plt.title('Smoker Vs Charges')\n",
        "plt.xlabel('Smoker')\n",
        "plt.ylabel('Charges')\n",
        "plt.show()"
      ],
      "execution_count": 121,
      "outputs": [
        {
          "output_type": "display_data",
          "data": {
            "image/png": "[encoded data removed]",
            "text/plain": [
              "<Figure size 432x288 with 1 Axes>"
            ]
          },
          "metadata": {
            "tags": [],
            "needs_background": "light"
          }
        }
      ]
    },
    {
      "cell_type": "code",
      "metadata": {
        "id": "qRW1aLH1EiD1",
        "colab_type": "code",
        "colab": {
          "base_uri": "https://localhost:8080/",
          "height": 408
        },
        "outputId": "c331e6ac-a25e-448e-ac45-a7d7a7e07bd8"
      },
      "source": [
        "charges=df.charges\n",
        "df.drop(['charges'],inplace=True,axis=1)\n",
        "df"
      ],
      "execution_count": 122,
      "outputs": [
        {
          "output_type": "execute_result",
          "data": {
            "text/html": [
              "<div>\n",
              "<style scoped>\n",
              "    .dataframe tbody tr th:only-of-type {\n",
              "        vertical-align: middle;\n",
              "    }\n",
              "\n",
              "    .dataframe tbody tr th {\n",
              "        vertical-align: top;\n",
              "    }\n",
              "\n",
              "    .dataframe thead th {\n",
              "        text-align: right;\n",
              "    }\n",
              "</style>\n",
              "<table border=\"1\" class=\"dataframe\">\n",
              "  <thead>\n",
              "    <tr style=\"text-align: right;\">\n",
              "      <th></th>\n",
              "      <th>age</th>\n",
              "      <th>sex</th>\n",
              "      <th>bmi</th>\n",
              "      <th>children</th>\n",
              "      <th>smoker</th>\n",
              "      <th>region</th>\n",
              "    </tr>\n",
              "  </thead>\n",
              "  <tbody>\n",
              "    <tr>\n",
              "      <th>0</th>\n",
              "      <td>19</td>\n",
              "      <td>female</td>\n",
              "      <td>27.900</td>\n",
              "      <td>0</td>\n",
              "      <td>yes</td>\n",
              "      <td>southwest</td>\n",
              "    </tr>\n",
              "    <tr>\n",
              "      <th>1</th>\n",
              "      <td>18</td>\n",
              "      <td>male</td>\n",
              "      <td>33.770</td>\n",
              "      <td>1</td>\n",
              "      <td>no</td>\n",
              "      <td>southeast</td>\n",
              "    </tr>\n",
              "    <tr>\n",
              "      <th>2</th>\n",
              "      <td>28</td>\n",
              "      <td>male</td>\n",
              "      <td>33.000</td>\n",
              "      <td>3</td>\n",
              "      <td>no</td>\n",
              "      <td>southeast</td>\n",
              "    </tr>\n",
              "    <tr>\n",
              "      <th>3</th>\n",
              "      <td>33</td>\n",
              "      <td>male</td>\n",
              "      <td>22.705</td>\n",
              "      <td>0</td>\n",
              "      <td>no</td>\n",
              "      <td>northwest</td>\n",
              "    </tr>\n",
              "    <tr>\n",
              "      <th>4</th>\n",
              "      <td>32</td>\n",
              "      <td>male</td>\n",
              "      <td>28.880</td>\n",
              "      <td>0</td>\n",
              "      <td>no</td>\n",
              "      <td>northwest</td>\n",
              "    </tr>\n",
              "    <tr>\n",
              "      <th>...</th>\n",
              "      <td>...</td>\n",
              "      <td>...</td>\n",
              "      <td>...</td>\n",
              "      <td>...</td>\n",
              "      <td>...</td>\n",
              "      <td>...</td>\n",
              "    </tr>\n",
              "    <tr>\n",
              "      <th>1333</th>\n",
              "      <td>50</td>\n",
              "      <td>male</td>\n",
              "      <td>30.970</td>\n",
              "      <td>3</td>\n",
              "      <td>no</td>\n",
              "      <td>northwest</td>\n",
              "    </tr>\n",
              "    <tr>\n",
              "      <th>1334</th>\n",
              "      <td>18</td>\n",
              "      <td>female</td>\n",
              "      <td>31.920</td>\n",
              "      <td>0</td>\n",
              "      <td>no</td>\n",
              "      <td>northeast</td>\n",
              "    </tr>\n",
              "    <tr>\n",
              "      <th>1335</th>\n",
              "      <td>18</td>\n",
              "      <td>female</td>\n",
              "      <td>36.850</td>\n",
              "      <td>0</td>\n",
              "      <td>no</td>\n",
              "      <td>southeast</td>\n",
              "    </tr>\n",
              "    <tr>\n",
              "      <th>1336</th>\n",
              "      <td>21</td>\n",
              "      <td>female</td>\n",
              "      <td>25.800</td>\n",
              "      <td>0</td>\n",
              "      <td>no</td>\n",
              "      <td>southwest</td>\n",
              "    </tr>\n",
              "    <tr>\n",
              "      <th>1337</th>\n",
              "      <td>61</td>\n",
              "      <td>female</td>\n",
              "      <td>29.070</td>\n",
              "      <td>0</td>\n",
              "      <td>yes</td>\n",
              "      <td>northwest</td>\n",
              "    </tr>\n",
              "  </tbody>\n",
              "</table>\n",
              "<p>1338 rows × 6 columns</p>\n",
              "</div>"
            ],
            "text/plain": [
              "      age     sex     bmi  children smoker     region\n",
              "0      19  female  27.900         0    yes  southwest\n",
              "1      18    male  33.770         1     no  southeast\n",
              "2      28    male  33.000         3     no  southeast\n",
              "3      33    male  22.705         0     no  northwest\n",
              "4      32    male  28.880         0     no  northwest\n",
              "...   ...     ...     ...       ...    ...        ...\n",
              "1333   50    male  30.970         3     no  northwest\n",
              "1334   18  female  31.920         0     no  northeast\n",
              "1335   18  female  36.850         0     no  southeast\n",
              "1336   21  female  25.800         0     no  southwest\n",
              "1337   61  female  29.070         0    yes  northwest\n",
              "\n",
              "[1338 rows x 6 columns]"
            ]
          },
          "metadata": {
            "tags": []
          },
          "execution_count": 122
        }
      ]
    },
    {
      "cell_type": "code",
      "metadata": {
        "id": "v-BGeqPNPTdI",
        "colab_type": "code",
        "colab": {
          "base_uri": "https://localhost:8080/",
          "height": 408
        },
        "outputId": "b78b9c3c-5898-42c8-d04b-4c87b4b5b1fc"
      },
      "source": [
        "sex_categ=pd.get_dummies(df.sex,prefix='sex')\n",
        "sex_categ"
      ],
      "execution_count": 123,
      "outputs": [
        {
          "output_type": "execute_result",
          "data": {
            "text/html": [
              "<div>\n",
              "<style scoped>\n",
              "    .dataframe tbody tr th:only-of-type {\n",
              "        vertical-align: middle;\n",
              "    }\n",
              "\n",
              "    .dataframe tbody tr th {\n",
              "        vertical-align: top;\n",
              "    }\n",
              "\n",
              "    .dataframe thead th {\n",
              "        text-align: right;\n",
              "    }\n",
              "</style>\n",
              "<table border=\"1\" class=\"dataframe\">\n",
              "  <thead>\n",
              "    <tr style=\"text-align: right;\">\n",
              "      <th></th>\n",
              "      <th>sex_female</th>\n",
              "      <th>sex_male</th>\n",
              "    </tr>\n",
              "  </thead>\n",
              "  <tbody>\n",
              "    <tr>\n",
              "      <th>0</th>\n",
              "      <td>1</td>\n",
              "      <td>0</td>\n",
              "    </tr>\n",
              "    <tr>\n",
              "      <th>1</th>\n",
              "      <td>0</td>\n",
              "      <td>1</td>\n",
              "    </tr>\n",
              "    <tr>\n",
              "      <th>2</th>\n",
              "      <td>0</td>\n",
              "      <td>1</td>\n",
              "    </tr>\n",
              "    <tr>\n",
              "      <th>3</th>\n",
              "      <td>0</td>\n",
              "      <td>1</td>\n",
              "    </tr>\n",
              "    <tr>\n",
              "      <th>4</th>\n",
              "      <td>0</td>\n",
              "      <td>1</td>\n",
              "    </tr>\n",
              "    <tr>\n",
              "      <th>...</th>\n",
              "      <td>...</td>\n",
              "      <td>...</td>\n",
              "    </tr>\n",
              "    <tr>\n",
              "      <th>1333</th>\n",
              "      <td>0</td>\n",
              "      <td>1</td>\n",
              "    </tr>\n",
              "    <tr>\n",
              "      <th>1334</th>\n",
              "      <td>1</td>\n",
              "      <td>0</td>\n",
              "    </tr>\n",
              "    <tr>\n",
              "      <th>1335</th>\n",
              "      <td>1</td>\n",
              "      <td>0</td>\n",
              "    </tr>\n",
              "    <tr>\n",
              "      <th>1336</th>\n",
              "      <td>1</td>\n",
              "      <td>0</td>\n",
              "    </tr>\n",
              "    <tr>\n",
              "      <th>1337</th>\n",
              "      <td>1</td>\n",
              "      <td>0</td>\n",
              "    </tr>\n",
              "  </tbody>\n",
              "</table>\n",
              "<p>1338 rows × 2 columns</p>\n",
              "</div>"
            ],
            "text/plain": [
              "      sex_female  sex_male\n",
              "0              1         0\n",
              "1              0         1\n",
              "2              0         1\n",
              "3              0         1\n",
              "4              0         1\n",
              "...          ...       ...\n",
              "1333           0         1\n",
              "1334           1         0\n",
              "1335           1         0\n",
              "1336           1         0\n",
              "1337           1         0\n",
              "\n",
              "[1338 rows x 2 columns]"
            ]
          },
          "metadata": {
            "tags": []
          },
          "execution_count": 123
        }
      ]
    },
    {
      "cell_type": "code",
      "metadata": {
        "id": "Shn8WO_LPt-b",
        "colab_type": "code",
        "colab": {
          "base_uri": "https://localhost:8080/",
          "height": 408
        },
        "outputId": "5453f8be-21d4-4f4e-ae45-bf68058ea2c2"
      },
      "source": [
        "smoker_categ=pd.get_dummies(df.smoker,prefix='smoker')\n",
        "smoker_categ\n"
      ],
      "execution_count": 124,
      "outputs": [
        {
          "output_type": "execute_result",
          "data": {
            "text/html": [
              "<div>\n",
              "<style scoped>\n",
              "    .dataframe tbody tr th:only-of-type {\n",
              "        vertical-align: middle;\n",
              "    }\n",
              "\n",
              "    .dataframe tbody tr th {\n",
              "        vertical-align: top;\n",
              "    }\n",
              "\n",
              "    .dataframe thead th {\n",
              "        text-align: right;\n",
              "    }\n",
              "</style>\n",
              "<table border=\"1\" class=\"dataframe\">\n",
              "  <thead>\n",
              "    <tr style=\"text-align: right;\">\n",
              "      <th></th>\n",
              "      <th>smoker_no</th>\n",
              "      <th>smoker_yes</th>\n",
              "    </tr>\n",
              "  </thead>\n",
              "  <tbody>\n",
              "    <tr>\n",
              "      <th>0</th>\n",
              "      <td>0</td>\n",
              "      <td>1</td>\n",
              "    </tr>\n",
              "    <tr>\n",
              "      <th>1</th>\n",
              "      <td>1</td>\n",
              "      <td>0</td>\n",
              "    </tr>\n",
              "    <tr>\n",
              "      <th>2</th>\n",
              "      <td>1</td>\n",
              "      <td>0</td>\n",
              "    </tr>\n",
              "    <tr>\n",
              "      <th>3</th>\n",
              "      <td>1</td>\n",
              "      <td>0</td>\n",
              "    </tr>\n",
              "    <tr>\n",
              "      <th>4</th>\n",
              "      <td>1</td>\n",
              "      <td>0</td>\n",
              "    </tr>\n",
              "    <tr>\n",
              "      <th>...</th>\n",
              "      <td>...</td>\n",
              "      <td>...</td>\n",
              "    </tr>\n",
              "    <tr>\n",
              "      <th>1333</th>\n",
              "      <td>1</td>\n",
              "      <td>0</td>\n",
              "    </tr>\n",
              "    <tr>\n",
              "      <th>1334</th>\n",
              "      <td>1</td>\n",
              "      <td>0</td>\n",
              "    </tr>\n",
              "    <tr>\n",
              "      <th>1335</th>\n",
              "      <td>1</td>\n",
              "      <td>0</td>\n",
              "    </tr>\n",
              "    <tr>\n",
              "      <th>1336</th>\n",
              "      <td>1</td>\n",
              "      <td>0</td>\n",
              "    </tr>\n",
              "    <tr>\n",
              "      <th>1337</th>\n",
              "      <td>0</td>\n",
              "      <td>1</td>\n",
              "    </tr>\n",
              "  </tbody>\n",
              "</table>\n",
              "<p>1338 rows × 2 columns</p>\n",
              "</div>"
            ],
            "text/plain": [
              "      smoker_no  smoker_yes\n",
              "0             0           1\n",
              "1             1           0\n",
              "2             1           0\n",
              "3             1           0\n",
              "4             1           0\n",
              "...         ...         ...\n",
              "1333          1           0\n",
              "1334          1           0\n",
              "1335          1           0\n",
              "1336          1           0\n",
              "1337          0           1\n",
              "\n",
              "[1338 rows x 2 columns]"
            ]
          },
          "metadata": {
            "tags": []
          },
          "execution_count": 124
        }
      ]
    },
    {
      "cell_type": "code",
      "metadata": {
        "id": "UdxATQBSP37f",
        "colab_type": "code",
        "colab": {
          "base_uri": "https://localhost:8080/",
          "height": 408
        },
        "outputId": "955afd20-7274-480f-b546-419c77a2ce01"
      },
      "source": [
        "reg_categ=pd.get_dummies(df.region,prefix='region')\n",
        "reg_categ"
      ],
      "execution_count": 125,
      "outputs": [
        {
          "output_type": "execute_result",
          "data": {
            "text/html": [
              "<div>\n",
              "<style scoped>\n",
              "    .dataframe tbody tr th:only-of-type {\n",
              "        vertical-align: middle;\n",
              "    }\n",
              "\n",
              "    .dataframe tbody tr th {\n",
              "        vertical-align: top;\n",
              "    }\n",
              "\n",
              "    .dataframe thead th {\n",
              "        text-align: right;\n",
              "    }\n",
              "</style>\n",
              "<table border=\"1\" class=\"dataframe\">\n",
              "  <thead>\n",
              "    <tr style=\"text-align: right;\">\n",
              "      <th></th>\n",
              "      <th>region_northeast</th>\n",
              "      <th>region_northwest</th>\n",
              "      <th>region_southeast</th>\n",
              "      <th>region_southwest</th>\n",
              "    </tr>\n",
              "  </thead>\n",
              "  <tbody>\n",
              "    <tr>\n",
              "      <th>0</th>\n",
              "      <td>0</td>\n",
              "      <td>0</td>\n",
              "      <td>0</td>\n",
              "      <td>1</td>\n",
              "    </tr>\n",
              "    <tr>\n",
              "      <th>1</th>\n",
              "      <td>0</td>\n",
              "      <td>0</td>\n",
              "      <td>1</td>\n",
              "      <td>0</td>\n",
              "    </tr>\n",
              "    <tr>\n",
              "      <th>2</th>\n",
              "      <td>0</td>\n",
              "      <td>0</td>\n",
              "      <td>1</td>\n",
              "      <td>0</td>\n",
              "    </tr>\n",
              "    <tr>\n",
              "      <th>3</th>\n",
              "      <td>0</td>\n",
              "      <td>1</td>\n",
              "      <td>0</td>\n",
              "      <td>0</td>\n",
              "    </tr>\n",
              "    <tr>\n",
              "      <th>4</th>\n",
              "      <td>0</td>\n",
              "      <td>1</td>\n",
              "      <td>0</td>\n",
              "      <td>0</td>\n",
              "    </tr>\n",
              "    <tr>\n",
              "      <th>...</th>\n",
              "      <td>...</td>\n",
              "      <td>...</td>\n",
              "      <td>...</td>\n",
              "      <td>...</td>\n",
              "    </tr>\n",
              "    <tr>\n",
              "      <th>1333</th>\n",
              "      <td>0</td>\n",
              "      <td>1</td>\n",
              "      <td>0</td>\n",
              "      <td>0</td>\n",
              "    </tr>\n",
              "    <tr>\n",
              "      <th>1334</th>\n",
              "      <td>1</td>\n",
              "      <td>0</td>\n",
              "      <td>0</td>\n",
              "      <td>0</td>\n",
              "    </tr>\n",
              "    <tr>\n",
              "      <th>1335</th>\n",
              "      <td>0</td>\n",
              "      <td>0</td>\n",
              "      <td>1</td>\n",
              "      <td>0</td>\n",
              "    </tr>\n",
              "    <tr>\n",
              "      <th>1336</th>\n",
              "      <td>0</td>\n",
              "      <td>0</td>\n",
              "      <td>0</td>\n",
              "      <td>1</td>\n",
              "    </tr>\n",
              "    <tr>\n",
              "      <th>1337</th>\n",
              "      <td>0</td>\n",
              "      <td>1</td>\n",
              "      <td>0</td>\n",
              "      <td>0</td>\n",
              "    </tr>\n",
              "  </tbody>\n",
              "</table>\n",
              "<p>1338 rows × 4 columns</p>\n",
              "</div>"
            ],
            "text/plain": [
              "      region_northeast  region_northwest  region_southeast  region_southwest\n",
              "0                    0                 0                 0                 1\n",
              "1                    0                 0                 1                 0\n",
              "2                    0                 0                 1                 0\n",
              "3                    0                 1                 0                 0\n",
              "4                    0                 1                 0                 0\n",
              "...                ...               ...               ...               ...\n",
              "1333                 0                 1                 0                 0\n",
              "1334                 1                 0                 0                 0\n",
              "1335                 0                 0                 1                 0\n",
              "1336                 0                 0                 0                 1\n",
              "1337                 0                 1                 0                 0\n",
              "\n",
              "[1338 rows x 4 columns]"
            ]
          },
          "metadata": {
            "tags": []
          },
          "execution_count": 125
        }
      ]
    },
    {
      "cell_type": "code",
      "metadata": {
        "id": "xYyLVILZQEzM",
        "colab_type": "code",
        "colab": {
          "base_uri": "https://localhost:8080/",
          "height": 428
        },
        "outputId": "12d02e16-b218-4431-cef4-e1c6d190578f"
      },
      "source": [
        "#Creating dummy values for string columns\n",
        "df = pd.concat([df,pd.get_dummies(df['sex'], prefix='sex')],axis=1)\n",
        "df.drop(['sex'],axis=1, inplace=True)\n",
        "df = pd.concat([df,pd.get_dummies(df['smoker'], prefix='smoker')],axis=1)\n",
        "df.drop(['smoker'],axis=1, inplace=True)\n",
        "df = pd.concat([df,pd.get_dummies(df['region'], prefix='region')],axis=1)\n",
        "df.drop(['region'],axis=1, inplace=True)\n",
        "df['charges']=charges\n",
        "df"
      ],
      "execution_count": 126,
      "outputs": [
        {
          "output_type": "execute_result",
          "data": {
            "text/html": [
              "<div>\n",
              "<style scoped>\n",
              "    .dataframe tbody tr th:only-of-type {\n",
              "        vertical-align: middle;\n",
              "    }\n",
              "\n",
              "    .dataframe tbody tr th {\n",
              "        vertical-align: top;\n",
              "    }\n",
              "\n",
              "    .dataframe thead th {\n",
              "        text-align: right;\n",
              "    }\n",
              "</style>\n",
              "<table border=\"1\" class=\"dataframe\">\n",
              "  <thead>\n",
              "    <tr style=\"text-align: right;\">\n",
              "      <th></th>\n",
              "      <th>age</th>\n",
              "      <th>bmi</th>\n",
              "      <th>children</th>\n",
              "      <th>sex_female</th>\n",
              "      <th>sex_male</th>\n",
              "      <th>smoker_no</th>\n",
              "      <th>smoker_yes</th>\n",
              "      <th>region_northeast</th>\n",
              "      <th>region_northwest</th>\n",
              "      <th>region_southeast</th>\n",
              "      <th>region_southwest</th>\n",
              "      <th>charges</th>\n",
              "    </tr>\n",
              "  </thead>\n",
              "  <tbody>\n",
              "    <tr>\n",
              "      <th>0</th>\n",
              "      <td>19</td>\n",
              "      <td>27.900</td>\n",
              "      <td>0</td>\n",
              "      <td>1</td>\n",
              "      <td>0</td>\n",
              "      <td>0</td>\n",
              "      <td>1</td>\n",
              "      <td>0</td>\n",
              "      <td>0</td>\n",
              "      <td>0</td>\n",
              "      <td>1</td>\n",
              "      <td>16884.92400</td>\n",
              "    </tr>\n",
              "    <tr>\n",
              "      <th>1</th>\n",
              "      <td>18</td>\n",
              "      <td>33.770</td>\n",
              "      <td>1</td>\n",
              "      <td>0</td>\n",
              "      <td>1</td>\n",
              "      <td>1</td>\n",
              "      <td>0</td>\n",
              "      <td>0</td>\n",
              "      <td>0</td>\n",
              "      <td>1</td>\n",
              "      <td>0</td>\n",
              "      <td>1725.55230</td>\n",
              "    </tr>\n",
              "    <tr>\n",
              "      <th>2</th>\n",
              "      <td>28</td>\n",
              "      <td>33.000</td>\n",
              "      <td>3</td>\n",
              "      <td>0</td>\n",
              "      <td>1</td>\n",
              "      <td>1</td>\n",
              "      <td>0</td>\n",
              "      <td>0</td>\n",
              "      <td>0</td>\n",
              "      <td>1</td>\n",
              "      <td>0</td>\n",
              "      <td>4449.46200</td>\n",
              "    </tr>\n",
              "    <tr>\n",
              "      <th>3</th>\n",
              "      <td>33</td>\n",
              "      <td>22.705</td>\n",
              "      <td>0</td>\n",
              "      <td>0</td>\n",
              "      <td>1</td>\n",
              "      <td>1</td>\n",
              "      <td>0</td>\n",
              "      <td>0</td>\n",
              "      <td>1</td>\n",
              "      <td>0</td>\n",
              "      <td>0</td>\n",
              "      <td>21984.47061</td>\n",
              "    </tr>\n",
              "    <tr>\n",
              "      <th>4</th>\n",
              "      <td>32</td>\n",
              "      <td>28.880</td>\n",
              "      <td>0</td>\n",
              "      <td>0</td>\n",
              "      <td>1</td>\n",
              "      <td>1</td>\n",
              "      <td>0</td>\n",
              "      <td>0</td>\n",
              "      <td>1</td>\n",
              "      <td>0</td>\n",
              "      <td>0</td>\n",
              "      <td>3866.85520</td>\n",
              "    </tr>\n",
              "    <tr>\n",
              "      <th>...</th>\n",
              "      <td>...</td>\n",
              "      <td>...</td>\n",
              "      <td>...</td>\n",
              "      <td>...</td>\n",
              "      <td>...</td>\n",
              "      <td>...</td>\n",
              "      <td>...</td>\n",
              "      <td>...</td>\n",
              "      <td>...</td>\n",
              "      <td>...</td>\n",
              "      <td>...</td>\n",
              "      <td>...</td>\n",
              "    </tr>\n",
              "    <tr>\n",
              "      <th>1333</th>\n",
              "      <td>50</td>\n",
              "      <td>30.970</td>\n",
              "      <td>3</td>\n",
              "      <td>0</td>\n",
              "      <td>1</td>\n",
              "      <td>1</td>\n",
              "      <td>0</td>\n",
              "      <td>0</td>\n",
              "      <td>1</td>\n",
              "      <td>0</td>\n",
              "      <td>0</td>\n",
              "      <td>10600.54830</td>\n",
              "    </tr>\n",
              "    <tr>\n",
              "      <th>1334</th>\n",
              "      <td>18</td>\n",
              "      <td>31.920</td>\n",
              "      <td>0</td>\n",
              "      <td>1</td>\n",
              "      <td>0</td>\n",
              "      <td>1</td>\n",
              "      <td>0</td>\n",
              "      <td>1</td>\n",
              "      <td>0</td>\n",
              "      <td>0</td>\n",
              "      <td>0</td>\n",
              "      <td>2205.98080</td>\n",
              "    </tr>\n",
              "    <tr>\n",
              "      <th>1335</th>\n",
              "      <td>18</td>\n",
              "      <td>36.850</td>\n",
              "      <td>0</td>\n",
              "      <td>1</td>\n",
              "      <td>0</td>\n",
              "      <td>1</td>\n",
              "      <td>0</td>\n",
              "      <td>0</td>\n",
              "      <td>0</td>\n",
              "      <td>1</td>\n",
              "      <td>0</td>\n",
              "      <td>1629.83350</td>\n",
              "    </tr>\n",
              "    <tr>\n",
              "      <th>1336</th>\n",
              "      <td>21</td>\n",
              "      <td>25.800</td>\n",
              "      <td>0</td>\n",
              "      <td>1</td>\n",
              "      <td>0</td>\n",
              "      <td>1</td>\n",
              "      <td>0</td>\n",
              "      <td>0</td>\n",
              "      <td>0</td>\n",
              "      <td>0</td>\n",
              "      <td>1</td>\n",
              "      <td>2007.94500</td>\n",
              "    </tr>\n",
              "    <tr>\n",
              "      <th>1337</th>\n",
              "      <td>61</td>\n",
              "      <td>29.070</td>\n",
              "      <td>0</td>\n",
              "      <td>1</td>\n",
              "      <td>0</td>\n",
              "      <td>0</td>\n",
              "      <td>1</td>\n",
              "      <td>0</td>\n",
              "      <td>1</td>\n",
              "      <td>0</td>\n",
              "      <td>0</td>\n",
              "      <td>29141.36030</td>\n",
              "    </tr>\n",
              "  </tbody>\n",
              "</table>\n",
              "<p>1338 rows × 12 columns</p>\n",
              "</div>"
            ],
            "text/plain": [
              "      age     bmi  children  ...  region_southeast  region_southwest      charges\n",
              "0      19  27.900         0  ...                 0                 1  16884.92400\n",
              "1      18  33.770         1  ...                 1                 0   1725.55230\n",
              "2      28  33.000         3  ...                 1                 0   4449.46200\n",
              "3      33  22.705         0  ...                 0                 0  21984.47061\n",
              "4      32  28.880         0  ...                 0                 0   3866.85520\n",
              "...   ...     ...       ...  ...               ...               ...          ...\n",
              "1333   50  30.970         3  ...                 0                 0  10600.54830\n",
              "1334   18  31.920         0  ...                 0                 0   2205.98080\n",
              "1335   18  36.850         0  ...                 1                 0   1629.83350\n",
              "1336   21  25.800         0  ...                 0                 1   2007.94500\n",
              "1337   61  29.070         0  ...                 0                 0  29141.36030\n",
              "\n",
              "[1338 rows x 12 columns]"
            ]
          },
          "metadata": {
            "tags": []
          },
          "execution_count": 126
        }
      ]
    },
    {
      "cell_type": "code",
      "metadata": {
        "id": "ZU2G_lCe5LGJ",
        "colab_type": "code",
        "colab": {}
      },
      "source": [
        "#dividing data into inputs and outputs\n",
        "x=df.iloc[:,0:11].values\n",
        "y=df.iloc[:,11].values\n",
        "#all columns are almost in the same range ,so no need to normalize the data"
      ],
      "execution_count": 127,
      "outputs": []
    },
    {
      "cell_type": "code",
      "metadata": {
        "id": "INnPkKtAP2j6",
        "colab_type": "code",
        "colab": {
          "base_uri": "https://localhost:8080/",
          "height": 138
        },
        "outputId": "aa42fbec-9298-4b2f-b77e-84d57a86e1e1"
      },
      "source": [
        "x"
      ],
      "execution_count": 128,
      "outputs": [
        {
          "output_type": "execute_result",
          "data": {
            "text/plain": [
              "array([[19.  , 27.9 ,  0.  , ...,  0.  ,  0.  ,  1.  ],\n",
              "       [18.  , 33.77,  1.  , ...,  0.  ,  1.  ,  0.  ],\n",
              "       [28.  , 33.  ,  3.  , ...,  0.  ,  1.  ,  0.  ],\n",
              "       ...,\n",
              "       [18.  , 36.85,  0.  , ...,  0.  ,  1.  ,  0.  ],\n",
              "       [21.  , 25.8 ,  0.  , ...,  0.  ,  0.  ,  1.  ],\n",
              "       [61.  , 29.07,  0.  , ...,  1.  ,  0.  ,  0.  ]])"
            ]
          },
          "metadata": {
            "tags": []
          },
          "execution_count": 128
        }
      ]
    },
    {
      "cell_type": "code",
      "metadata": {
        "id": "19OGFYf06BEt",
        "colab_type": "code",
        "colab": {
          "base_uri": "https://localhost:8080/",
          "height": 52
        },
        "outputId": "332f1ebc-8fca-4325-8033-78342d0d03c2"
      },
      "source": [
        "y"
      ],
      "execution_count": 129,
      "outputs": [
        {
          "output_type": "execute_result",
          "data": {
            "text/plain": [
              "array([16884.924 ,  1725.5523,  4449.462 , ...,  1629.8335,  2007.945 ,\n",
              "       29141.3603])"
            ]
          },
          "metadata": {
            "tags": []
          },
          "execution_count": 129
        }
      ]
    },
    {
      "cell_type": "code",
      "metadata": {
        "id": "-90fpP0xJFvM",
        "colab_type": "code",
        "colab": {}
      },
      "source": [
        "#splitting data using train_test_split\n",
        "from sklearn.model_selection import train_test_split\n",
        "\n",
        "x_train,x_test,y_train,y_test = train_test_split(x,y,test_size = 0.2,random_state = 338)\n"
      ],
      "execution_count": 130,
      "outputs": []
    },
    {
      "cell_type": "code",
      "metadata": {
        "id": "D5mB24DG6YKd",
        "colab_type": "code",
        "colab": {
          "base_uri": "https://localhost:8080/",
          "height": 34
        },
        "outputId": "298fbbdc-6703-411a-e064-fe6c0f49b4ca"
      },
      "source": [
        "x_train.shape"
      ],
      "execution_count": 131,
      "outputs": [
        {
          "output_type": "execute_result",
          "data": {
            "text/plain": [
              "(1070, 11)"
            ]
          },
          "metadata": {
            "tags": []
          },
          "execution_count": 131
        }
      ]
    },
    {
      "cell_type": "code",
      "metadata": {
        "id": "okXC1YuW6cre",
        "colab_type": "code",
        "colab": {
          "base_uri": "https://localhost:8080/",
          "height": 34
        },
        "outputId": "88ada51e-c247-449a-f294-475b478e7824"
      },
      "source": [
        "x_test.shape"
      ],
      "execution_count": 132,
      "outputs": [
        {
          "output_type": "execute_result",
          "data": {
            "text/plain": [
              "(268, 11)"
            ]
          },
          "metadata": {
            "tags": []
          },
          "execution_count": 132
        }
      ]
    },
    {
      "cell_type": "code",
      "metadata": {
        "id": "VJ0ckrzC6iK4",
        "colab_type": "code",
        "colab": {
          "base_uri": "https://localhost:8080/",
          "height": 1000
        },
        "outputId": "2de007ae-0250-4259-daa2-137ddb874e4a"
      },
      "source": [
        "#Running a regressor-here Linear Regression model\n",
        "from sklearn.linear_model import LinearRegression\n",
        "model = LinearRegression()\n",
        "#Fitting the model\n",
        "model.fit(x_train,y_train) \n",
        "#Predictig the output\n",
        "y_pred = model.predict(x_test)\n",
        "print(y_pred)"
      ],
      "execution_count": 133,
      "outputs": [
        {
          "output_type": "stream",
          "text": [
            "[ 9.76359095e+03  3.36899818e+03  7.63914842e+03  9.39826926e+03\n",
            "  7.97707037e+03  3.34932184e+03  3.54008030e+04  1.50326181e+04\n",
            "  8.93952985e+03  3.31865631e+04  7.65503699e+02  3.10203572e+03\n",
            "  5.29671990e+03  6.03713049e+03  2.76201333e+04  3.95069556e+04\n",
            "  3.09020076e+04  8.71514691e+03  3.64431362e+03  1.51473337e+04\n",
            "  1.42648289e+04  8.76940822e+03  2.98600233e+04  3.31955624e+04\n",
            " -7.61287743e+00  3.14361863e+04  6.41376734e+02  1.13843071e+04\n",
            "  7.53264267e+03  5.23750235e+03  5.77246461e+03  9.44717940e+03\n",
            "  1.67193917e+04  4.54541453e+03  1.60547454e+04  5.71876445e+03\n",
            "  8.72520316e+03  1.29102200e+04  3.34188247e+03  7.74719434e+03\n",
            "  1.08548812e+03  8.05496886e+03  1.20143477e+04 -1.25411476e+03\n",
            "  8.94414958e+03  1.04507244e+04  1.97158745e+03  7.25910463e+03\n",
            "  1.70980271e+04  2.79946985e+04  8.89662449e+03  2.99855463e+04\n",
            "  2.74879047e+04  5.83271130e+03  3.37459216e+04  2.86448718e+04\n",
            "  1.18485426e+04  1.46517205e+04  5.30209674e+03  6.46300540e+03\n",
            "  4.66786613e+03  1.41318476e+04  1.07056151e+04  1.18444963e+04\n",
            "  3.35480214e+03  1.27502084e+04  8.80152588e+03  3.07880778e+04\n",
            "  1.66336597e+04  1.26177258e+04  7.31262000e+03  7.27591665e+03\n",
            "  1.08082961e+04  6.74287456e+03  9.00267678e+03  1.26045793e+04\n",
            "  1.28397797e+04  9.58046833e+03  6.32763320e+03  8.42251128e+03\n",
            "  2.60725218e+04  3.21401421e+04  2.88118936e+04  3.07909097e+04\n",
            "  7.84679838e+03  1.38380530e+04  6.26740357e+03  3.85855531e+04\n",
            "  4.35434550e+03  1.72513092e+04  1.33053535e+04  3.52860870e+04\n",
            "  8.80304431e+03  2.72471046e+03  1.24475614e+03  1.42970323e+04\n",
            "  3.50878819e+04  1.46196809e+03  8.97189558e+03  1.50590029e+04\n",
            "  1.94199936e+04  3.31853305e+04  3.07283807e+03 -2.07799658e+03\n",
            "  3.51191430e+04  4.57244214e+03  3.68630815e+04 -1.30545658e+03\n",
            "  1.57832455e+04  1.02727808e+04  8.49301394e+03  1.73484993e+04\n",
            "  3.69490990e+03  2.87220386e+04  1.02414403e+04  5.49858556e+03\n",
            "  1.14602350e+04  6.67503480e+03  7.05479200e+03 -7.10068140e+02\n",
            "  1.54819113e+04  1.52007004e+04  1.96098279e+03  1.38325275e+04\n",
            "  2.70969395e+04  3.86161585e+03  4.79250453e+03  8.85337367e+03\n",
            "  5.86826215e+03  1.24994821e+03  1.35392373e+04  5.65760053e+03\n",
            "  4.05058729e+04  3.91057668e+03  1.02352266e+04  3.09215976e+04\n",
            "  9.53186354e+03  2.65831964e+03  1.42761998e+04  1.06663356e+04\n",
            "  8.99629193e+03  1.14566399e+04  3.99333985e+04  1.13463884e+04\n",
            "  1.40125269e+04  1.53835913e+04  3.00202573e+04  2.79579093e+04\n",
            "  3.46305187e+04  3.80150514e+03  3.83235143e+03  3.93504224e+04\n",
            "  1.02101381e+04  1.23332303e+04  7.84366828e+03  8.40045437e+03\n",
            "  4.90342175e+03  1.08070356e+04  2.28305878e+03  1.52308445e+04\n",
            "  1.10101476e+04  2.64623630e+04  5.67645458e+03  3.39471431e+03\n",
            "  6.65836059e+03  3.84176204e+04  1.46382642e+04  1.01970539e+04\n",
            "  9.92973765e+03  4.16211101e+03  1.17198688e+04  4.67494352e+03\n",
            "  6.53461956e+03  4.27254654e+03  2.85682817e+04  5.14975355e+03\n",
            "  6.13989093e+03  3.21345072e+04  3.39042807e+04  5.60911905e+03\n",
            "  1.46018484e+04  9.52594371e+03  5.36097592e+03  3.74253967e+03\n",
            "  5.24479353e+03  1.79839375e+03  3.70429290e+04  1.30750446e+04\n",
            "  2.85625089e+04  4.28866585e+03  3.36084566e+04  2.46561066e+03\n",
            "  4.97834827e+03  9.80692014e+02  8.28525642e+03  3.98038072e+03\n",
            "  1.36067056e+04  6.19303348e+03  1.04423887e+04  1.38579232e+04\n",
            "  7.99083211e+03  1.28865397e+04  3.93734719e+03  8.39592640e+03\n",
            "  3.68909856e+04  7.78198438e+03  6.95205925e+03  7.82108503e+03\n",
            "  3.42205648e+03  3.90683196e+04  9.69842685e+03  1.42704252e+04\n",
            "  5.43580505e+03  3.70616335e+04  5.45176450e+03  7.55895560e+03\n",
            "  2.54824199e+04  9.08042385e+02  6.97598132e+03  5.63867498e+03\n",
            "  1.67027545e+04  1.19946704e+04  1.21027200e+04  1.03656440e+04\n",
            "  1.08486821e+04  3.22449728e+03  6.00573317e+03  4.42748669e+03\n",
            "  3.12762215e+03  7.98798222e+03  4.85824290e+03  3.72490379e+04\n",
            "  1.86340369e+03  3.90734119e+04  3.33626610e+04  3.45763455e+04\n",
            "  9.19826640e+03  2.77325464e+04  1.35239537e+04  7.87463439e+03\n",
            "  1.17637237e+04  5.65334540e+03  1.05483061e+04  2.39194394e+04\n",
            "  1.01809382e+04  3.98122887e+03  1.10870257e+04  4.00534821e+04\n",
            " -2.29967161e+02  2.89040082e+04  2.56581843e+03  1.52806375e+04\n",
            "  7.33528153e+03 -7.11750614e+02  8.13602565e+03  2.86243704e+04\n",
            "  9.72062602e+03  1.13408792e+04  1.18741900e+04  3.21755402e+03\n",
            "  6.48411172e+03  1.29958398e+04  8.85846457e+03  9.91124091e+03\n",
            "  4.97591493e+03  3.73639653e+04  9.52650217e+03  1.04106614e+04]\n"
          ],
          "name": "stdout"
        }
      ]
    },
    {
      "cell_type": "code",
      "metadata": {
        "id": "9zqGCpri6svA",
        "colab_type": "code",
        "colab": {
          "base_uri": "https://localhost:8080/",
          "height": 795
        },
        "outputId": "3829193a-c5b2-4b13-e1e7-989fe03aa884"
      },
      "source": [
        "print(y_test)"
      ],
      "execution_count": 134,
      "outputs": [
        {
          "output_type": "stream",
          "text": [
            "[ 1163.4627   3353.284    7986.47525  5630.45785  7281.5056   2523.1695\n",
            " 42124.5153  10450.552    7512.267   40932.4295   2913.569    1137.011\n",
            "  3062.50825  4040.55825 33900.653   47928.03    19798.05455  6748.5912\n",
            " 17626.23951  8569.8618  12269.68865  8534.6718  37484.4493  23568.272\n",
            "  1964.78    35069.37452  1837.237    5662.225    6203.90175  6272.4772\n",
            "  7133.9025  17929.30337 16069.08475  2134.9015  14590.63205  4454.40265\n",
            "  8232.6388  14256.1928   1880.07     5375.038    1969.614    6067.12675\n",
            "  8068.185    2585.269    8515.7587   9715.841    1842.519    9264.797\n",
            " 11566.30055 18310.742    4518.82625 37465.34375 17496.306    4237.12655\n",
            " 39047.285   34806.4677  11244.3769  10736.87075  4883.866    3943.5954\n",
            "  1631.8212  12231.6136   6600.20595  6373.55735  1391.5287  10115.00885\n",
            "  5584.3057  19594.80965 12982.8747   8671.19125  8627.5411   6389.37785\n",
            " 11520.09985  8428.0693   8026.6666  10269.46    11840.77505  6082.405\n",
            " 19673.33573  6600.361   16577.7795  22218.1149  34254.05335 38245.59327\n",
            "  5012.471   14394.5579   5227.98875 45702.02235  2494.022   11576.13\n",
            " 11842.62375 26926.5144   3410.324    3206.49135  2007.945   12244.531\n",
            " 24869.8368   2196.4732   6796.86325  9704.66805 15555.18875 40904.1995\n",
            "  3161.454    1727.785   27037.9141   6640.54485 43578.9394   1242.26\n",
            " 14474.675    8410.04685  5246.047   13831.1152   4185.0979  36021.0112\n",
            " 10942.13205  4527.18295  8765.249    4837.5823   4402.233    1121.8739\n",
            " 10982.5013  28287.89766  2154.361   11512.405   15820.699    3906.127\n",
            "  4239.89265  6338.0756   1759.338    1252.407   13770.0979   3877.30425\n",
            " 48970.2476   4687.797    6196.448   19964.7463   5979.731   18955.22017\n",
            " 11945.1327   6334.34355  6653.7886  10214.636   47496.49445 12629.1656\n",
            " 11987.1682  11856.4115  20234.85475 16776.30405 25382.297    3056.3881\n",
            " 24059.68019 47269.854   11070.535   11735.87905  5488.262   10065.413\n",
            "  6933.24225 10702.6424  14426.07385 11944.59435  7160.094   16420.49455\n",
            "  5003.853    2801.2588   2480.9791  46151.1245  12949.1554   8825.086\n",
            " 11345.519    2055.3249   7152.6714   1826.843    6593.5083   4719.52405\n",
            " 19521.9682   4415.1588   7526.70645 21259.37795 24535.69855  4260.744\n",
            " 10325.206    6571.02435  1634.5734  21984.47061  5002.7827   4296.2712\n",
            " 44423.803   12638.195   34838.873    2207.69745 42112.2356   2396.0959\n",
            "  2897.3235   3208.787    3238.4357   1263.249   10976.24575  2899.48935\n",
            "  7749.1564   7650.77375  7325.0482  13224.693    1981.5819   5649.715\n",
            " 43813.8661   7077.1894   4347.02335  5148.5526   5693.4305  45710.20785\n",
            "  5397.6167  11362.755    3227.1211  43753.33705  6117.4945   7201.70085\n",
            " 16450.8947   2457.502    4922.9159   5472.449    9541.69555  9778.3472\n",
            " 12333.828    9249.4952   9414.92     2203.47185  6686.4313  10795.93733\n",
            " 11482.63485  7518.02535  4234.927   28868.6639   3260.199   47291.055\n",
            " 38998.546   39556.4945  15828.82173 17361.7661  10923.9332   9855.1314\n",
            " 12233.828    2322.6218   2438.0552  13747.87235  8520.026    3757.8448\n",
            " 11082.5772  48173.361    1711.0268  19199.944   22493.65964 14043.4767\n",
            "  8211.1002   1625.43375  3201.24515 35585.576    4762.329   10264.4421\n",
            "  9630.397    1137.4697   3490.5491   5757.41345  5377.4578   8703.456\n",
            "  1633.0444  43921.1837   9301.89355  7147.4728 ]\n"
          ],
          "name": "stdout"
        }
      ]
    },
    {
      "cell_type": "code",
      "metadata": {
        "id": "U_0zPd2tSOw6",
        "colab_type": "code",
        "colab": {
          "base_uri": "https://localhost:8080/",
          "height": 34
        },
        "outputId": "bff05a50-3d24-436d-ac7b-d5f21d1daee1"
      },
      "source": [
        "from sklearn import metrics\n",
        "# Mean Squared Error \n",
        "metrics.mean_squared_error(y_test,y_pred)"
      ],
      "execution_count": 135,
      "outputs": [
        {
          "output_type": "execute_result",
          "data": {
            "text/plain": [
              "28771509.94505758"
            ]
          },
          "metadata": {
            "tags": []
          },
          "execution_count": 135
        }
      ]
    },
    {
      "cell_type": "code",
      "metadata": {
        "id": "Ar0KDRWKSS62",
        "colab_type": "code",
        "colab": {
          "base_uri": "https://localhost:8080/",
          "height": 34
        },
        "outputId": "8943391f-3839-4e04-f301-eb653ea820cd"
      },
      "source": [
        "# Accuracy Score\n",
        "metrics.r2_score(y_test,y_pred)"
      ],
      "execution_count": 136,
      "outputs": [
        {
          "output_type": "execute_result",
          "data": {
            "text/plain": [
              "0.8018779827168324"
            ]
          },
          "metadata": {
            "tags": []
          },
          "execution_count": 136
        }
      ]
    },
    {
      "cell_type": "code",
      "metadata": {
        "id": "WJGspkUqBVF2",
        "colab_type": "code",
        "colab": {
          "base_uri": "https://localhost:8080/",
          "height": 282
        },
        "outputId": "8601db10-3e70-4bff-8932-e643d877567a"
      },
      "source": [
        "plt.plot(y_test,y_pred)"
      ],
      "execution_count": 137,
      "outputs": [
        {
          "output_type": "execute_result",
          "data": {
            "text/plain": [
              "[<matplotlib.lines.Line2D at 0x7f19410d3438>]"
            ]
          },
          "metadata": {
            "tags": []
          },
          "execution_count": 137
        },
        {
          "output_type": "display_data",
          "data": {
            "image/png": "[encoded data removed]",
            "text/plain": [
              "<Figure size 432x288 with 1 Axes>"
            ]
          },
          "metadata": {
            "tags": [],
            "needs_background": "light"
          }
        }
      ]
    },
    {
      "cell_type": "code",
      "metadata": {
        "id": "YowvozEUNfIp",
        "colab_type": "code",
        "colab": {
          "base_uri": "https://localhost:8080/",
          "height": 34
        },
        "outputId": "50f6c26b-9671-4a43-d9a7-89fba2f8808f"
      },
      "source": [
        "y[337]"
      ],
      "execution_count": 138,
      "outputs": [
        {
          "output_type": "execute_result",
          "data": {
            "text/plain": [
              "13937.6665"
            ]
          },
          "metadata": {
            "tags": []
          },
          "execution_count": 138
        }
      ]
    },
    {
      "cell_type": "code",
      "metadata": {
        "id": "GI8quO8nTIDw",
        "colab_type": "code",
        "colab": {
          "base_uri": "https://localhost:8080/",
          "height": 52
        },
        "outputId": "2de5bb86-6066-459d-d59b-9825aa1b1e8e"
      },
      "source": [
        "x[337]"
      ],
      "execution_count": 139,
      "outputs": [
        {
          "output_type": "execute_result",
          "data": {
            "text/plain": [
              "array([62.  , 27.55,  1.  ,  0.  ,  1.  ,  1.  ,  0.  ,  0.  ,  1.  ,\n",
              "        0.  ,  0.  ])"
            ]
          },
          "metadata": {
            "tags": []
          },
          "execution_count": 139
        }
      ]
    },
    {
      "cell_type": "code",
      "metadata": {
        "id": "iUeag-UiRk5z",
        "colab_type": "code",
        "colab": {
          "base_uri": "https://localhost:8080/",
          "height": 34
        },
        "outputId": "d30351d4-7955-4c31-fd12-98c9ff5aa212"
      },
      "source": [
        "model.predict([[62.  , 27.55,  1.  ,  0.  ,  1.  ,  1.  ,  0.  ,  0.  ,  1.  ,\n",
        "        0.  ,  0.  ]])"
      ],
      "execution_count": 140,
      "outputs": [
        {
          "output_type": "execute_result",
          "data": {
            "text/plain": [
              "array([13453.63547666])"
            ]
          },
          "metadata": {
            "tags": []
          },
          "execution_count": 140
        }
      ]
    },
    {
      "cell_type": "code",
      "metadata": {
        "id": "vyG2emy3SByh",
        "colab_type": "code",
        "colab": {}
      },
      "source": [
        ""
      ],
      "execution_count": 140,
      "outputs": []
    }
  ]
}